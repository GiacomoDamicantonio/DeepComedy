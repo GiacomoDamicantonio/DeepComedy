{
  "nbformat": 4,
  "nbformat_minor": 0,
  "metadata": {
    "accelerator": "GPU",
    "colab": {
      "name": "LSTM.ipynb",
      "provenance": [],
      "collapsed_sections": []
    },
    "kernelspec": {
      "display_name": "Python 3",
      "language": "python",
      "name": "python3"
    },
    "language_info": {
      "codemirror_mode": {
        "name": "ipython",
        "version": 3
      },
      "file_extension": ".py",
      "mimetype": "text/x-python",
      "name": "python",
      "nbconvert_exporter": "python",
      "pygments_lexer": "ipython3",
      "version": "3.8.2"
    }
  },
  "cells": [
    {
      "cell_type": "code",
      "metadata": {
        "colab_type": "code",
        "id": "R8FnhxiWY_Y1",
        "colab": {
          "base_uri": "https://localhost:8080/",
          "height": 35
        },
        "outputId": "e553b587-eaf8-4624-9351-392963aba19a"
      },
      "source": [
        "import time\n",
        "import re\n",
        "import os\n",
        "import math\n",
        "import numpy as np\n",
        "import pandas as pd\n",
        "from matplotlib import pyplot as plt\n",
        "import requests\n",
        "\n",
        "import tensorflow as tf\n",
        "from tensorflow.keras.models import Sequential\n",
        "from tensorflow.keras.layers import (\n",
        "    Input, Reshape, BatchNormalization, Dense, Dropout,       # General\n",
        "    Embedding, LSTM, Dense,                              # RNN\n",
        ")\n",
        "from tensorflow.keras.activations import elu, relu, softmax, sigmoid\n",
        "\n",
        "print(tf.__version__)"
      ],
      "execution_count": 9,
      "outputs": [
        {
          "output_type": "stream",
          "text": [
            "2.3.0\n"
          ],
          "name": "stdout"
        }
      ]
    },
    {
      "cell_type": "markdown",
      "metadata": {
        "id": "Fe1V83bpI8Tf",
        "colab_type": "text"
      },
      "source": [
        "## **Preprocessing**"
      ]
    },
    {
      "cell_type": "code",
      "metadata": {
        "colab_type": "code",
        "id": "V5YiWU0daYkT",
        "colab": {
          "base_uri": "https://localhost:8080/",
          "height": 35
        },
        "outputId": "6850226a-0b93-426c-b35e-2617afc4e1d0"
      },
      "source": [
        "# Read the Divina Commedia\n",
        "url = \"https://raw.githubusercontent.com/DanieleVeri/deep_comedy/ea3c999bee1ea27700c61c36e00f9dc8a768e5ee/divina_commedia.txt\"\n",
        "response = requests.get(url)\n",
        "\n",
        "divina_commedia = response.text\n",
        "\n",
        "# Replace rare characters\n",
        "divina_commedia = divina_commedia.replace(\"ä\", \"a\")\n",
        "divina_commedia = divina_commedia.replace(\"é\", \"è\")\n",
        "divina_commedia = divina_commedia.replace(\"ë\", \"è\")\n",
        "divina_commedia = divina_commedia.replace(\"Ë\", \"E\")\n",
        "divina_commedia = divina_commedia.replace(\"ï\", \"i\")\n",
        "divina_commedia = divina_commedia.replace(\"Ï\", \"I\")\n",
        "divina_commedia = divina_commedia.replace(\"ó\", \"ò\")\n",
        "divina_commedia = divina_commedia.replace(\"ö\", \"o\")\n",
        "divina_commedia = divina_commedia.replace(\"ü\", \"u\")\n",
        "divina_commedia = divina_commedia.replace(\"(\", \"-\")\n",
        "divina_commedia = divina_commedia.replace(\")\", \"-\")\n",
        "divina_commedia = divina_commedia.replace(\"[\", \"\")\n",
        "divina_commedia = divina_commedia.replace(\"]\", \"\")\n",
        "divina_commedia = re.sub(r'[0-9]+', '', divina_commedia)\n",
        "divina_commedia = divina_commedia.replace(\" \\n\", \"\\n\")\n",
        "\n",
        "unique_chars = list(set(divina_commedia))\n",
        "unique_chars.sort()  # to make sure you get the same encoding at each run\n",
        "char2idx = { char[1]: char[0] for char in enumerate(unique_chars) }\n",
        "\n",
        "def numerical_encoding(text, char_dict):\n",
        "    \"\"\" Text to list of chars, to np.array of numerical idx \"\"\"\n",
        "    chars_list = [ char for char in text ]\n",
        "    chars_list = [ char_dict[char] for char in chars_list ]\n",
        "    chars_list = np.array(chars_list)\n",
        "    return chars_list\n",
        "\n",
        "encoded_text = numerical_encoding(divina_commedia, char2idx)\n",
        "\n",
        "def get_text_matrix(sequence, len_input):\n",
        "    X = np.empty((len(sequence)-len_input, len_input))\n",
        "    for i in range(X.shape[0]):\n",
        "        X[i,:] = sequence[i : i+len_input]\n",
        "    return X\n",
        "\n",
        "text_matrix = get_text_matrix(encoded_text, 100)\n",
        "\n",
        "print(text_matrix.shape)"
      ],
      "execution_count": 10,
      "outputs": [
        {
          "output_type": "stream",
          "text": [
            "(533803, 100)\n"
          ],
          "name": "stdout"
        }
      ]
    },
    {
      "cell_type": "markdown",
      "metadata": {
        "id": "8w9Pm22BI3yD",
        "colab_type": "text"
      },
      "source": [
        "## **LSTM training**"
      ]
    },
    {
      "cell_type": "code",
      "metadata": {
        "colab_type": "code",
        "id": "mKysyBfpAtUS",
        "jupyter": {
          "outputs_hidden": true
        },
        "colab": {
          "base_uri": "https://localhost:8080/",
          "height": 1000
        },
        "outputId": "45ae5736-30de-4282-d1d2-bd2d0097d97d"
      },
      "source": [
        "# size of vocabulary\n",
        "vocab_size = len(char2idx)\n",
        "\n",
        "# size of mini batches during training\n",
        "batch_size = 1000\n",
        "# size of training subset at each epoch\n",
        "subset_size = batch_size * 100\n",
        "embedding_size = 256\n",
        "lstm_size = 1024\n",
        "hidden_size = 256\n",
        "\n",
        "n_epochs = 25\n",
        "learning_rate = 1e-3\n",
        "\n",
        "char_input = Input(shape=(batch_size,))\n",
        "RNN = Sequential([\n",
        "    Embedding(vocab_size, embedding_size,\n",
        "              batch_input_shape=(batch_size, None)),\n",
        "    \n",
        "    LSTM(lstm_size, return_sequences = True),\n",
        "    \n",
        "    Dense(hidden_size, activation = relu), \n",
        "    \n",
        "    Dense(vocab_size)\n",
        "])\n",
        "RNN.summary()\n",
        "optimizer = tf.keras.optimizers.Adam(learning_rate = learning_rate)\n",
        "\n",
        "# This is an Autograph function\n",
        "# its decorator makes it a TF op - i.e. much faster\n",
        "@tf.function\n",
        "def train_on_batch(x, y):\n",
        "    with tf.GradientTape() as tape:\n",
        "        current_loss = tf.reduce_mean(\n",
        "            tf.keras.losses.sparse_categorical_crossentropy(\n",
        "                y, RNN(x), from_logits = True))\n",
        "    gradients = tape.gradient(current_loss, RNN.trainable_variables)\n",
        "    optimizer.apply_gradients(zip(gradients, RNN.trainable_variables))\n",
        "    return current_loss\n",
        "\n",
        "loss_history = []\n",
        "\n",
        "for epoch in range(n_epochs):\n",
        "    start = time.time()\n",
        "    print(epoch)\n",
        "    \n",
        "    # Take subsets of train and target\n",
        "    sample = np.random.randint(0, text_matrix.shape[0]-1, subset_size)\n",
        "    sample_train = text_matrix[ sample , : ]\n",
        "    sample_target = text_matrix[ sample+1 , : ]\n",
        "    \n",
        "    for iteration in range(sample_train.shape[0] // batch_size):\n",
        "        take = iteration * batch_size\n",
        "        x = sample_train[ take:take+batch_size , : ]\n",
        "        y = sample_target[ take:take+batch_size , : ]\n",
        "\n",
        "        current_loss = train_on_batch(x, y)\n",
        "        loss_history.append(current_loss)\n",
        "    \n",
        "    print(\"{}.  \\t  Loss: {}  \\t  Time: {}ss\".format(\n",
        "        epoch+1, current_loss.numpy(), round(time.time()-start, 2)))\n",
        "    \n",
        "    \n",
        "plt.plot(loss_history)\n",
        "plt.title(\"Training Loss\")\n",
        "plt.show()\n",
        "\n",
        "RNN.save(\"/text_generator_RNN_00.h5\")"
      ],
      "execution_count": 13,
      "outputs": [
        {
          "output_type": "stream",
          "text": [
            "Model: \"sequential_7\"\n",
            "_________________________________________________________________\n",
            "Layer (type)                 Output Shape              Param #   \n",
            "=================================================================\n",
            "embedding_7 (Embedding)      (1000, None, 256)         15872     \n",
            "_________________________________________________________________\n",
            "lstm_7 (LSTM)                (1000, None, 1024)        5246976   \n",
            "_________________________________________________________________\n",
            "dense_14 (Dense)             (1000, None, 256)         262400    \n",
            "_________________________________________________________________\n",
            "dense_15 (Dense)             (1000, None, 62)          15934     \n",
            "=================================================================\n",
            "Total params: 5,541,182\n",
            "Trainable params: 5,541,182\n",
            "Non-trainable params: 0\n",
            "_________________________________________________________________\n",
            "0\n",
            "1.  \t  Loss: 2.392106294631958  \t  Time: 55.45ss\n",
            "1\n",
            "2.  \t  Loss: 2.0514543056488037  \t  Time: 53.66ss\n",
            "2\n",
            "3.  \t  Loss: 1.8689590692520142  \t  Time: 53.72ss\n",
            "3\n",
            "4.  \t  Loss: 1.7254834175109863  \t  Time: 53.78ss\n",
            "4\n",
            "5.  \t  Loss: 1.6298097372055054  \t  Time: 53.67ss\n",
            "5\n",
            "6.  \t  Loss: 1.5405349731445312  \t  Time: 53.74ss\n",
            "6\n",
            "7.  \t  Loss: 1.4623562097549438  \t  Time: 53.75ss\n",
            "7\n",
            "8.  \t  Loss: 1.3939487934112549  \t  Time: 53.76ss\n",
            "8\n",
            "9.  \t  Loss: 1.3404340744018555  \t  Time: 53.77ss\n",
            "9\n",
            "10.  \t  Loss: 1.2664786577224731  \t  Time: 53.7ss\n",
            "10\n",
            "11.  \t  Loss: 1.2040082216262817  \t  Time: 53.77ss\n",
            "11\n",
            "12.  \t  Loss: 1.1221280097961426  \t  Time: 53.77ss\n",
            "12\n",
            "13.  \t  Loss: 1.0357787609100342  \t  Time: 53.72ss\n",
            "13\n",
            "14.  \t  Loss: 0.9377641677856445  \t  Time: 53.72ss\n",
            "14\n",
            "15.  \t  Loss: 0.8344329595565796  \t  Time: 53.68ss\n",
            "15\n",
            "16.  \t  Loss: 0.729579508304596  \t  Time: 53.6ss\n",
            "16\n",
            "17.  \t  Loss: 0.6211807727813721  \t  Time: 53.67ss\n",
            "17\n",
            "18.  \t  Loss: 0.5205257534980774  \t  Time: 53.64ss\n",
            "18\n",
            "19.  \t  Loss: 0.44165125489234924  \t  Time: 53.63ss\n",
            "19\n",
            "20.  \t  Loss: 0.3801918625831604  \t  Time: 53.67ss\n",
            "20\n",
            "21.  \t  Loss: 0.32818886637687683  \t  Time: 53.75ss\n",
            "21\n",
            "22.  \t  Loss: 0.2961314022541046  \t  Time: 53.62ss\n",
            "22\n",
            "23.  \t  Loss: 0.2754611372947693  \t  Time: 53.62ss\n",
            "23\n",
            "24.  \t  Loss: 0.2575032413005829  \t  Time: 53.71ss\n",
            "24\n",
            "25.  \t  Loss: 0.24261178076267242  \t  Time: 53.65ss\n"
          ],
          "name": "stdout"
        },
        {
          "output_type": "display_data",
          "data": {
            "image/png": "[encoded data removed]",
            "text/plain": [
              "<Figure size 432x288 with 1 Axes>"
            ]
          },
          "metadata": {
            "tags": [],
            "needs_background": "light"
          }
        }
      ]
    },
    {
      "cell_type": "markdown",
      "metadata": {
        "id": "gawSIEf_Ix31",
        "colab_type": "text"
      },
      "source": [
        "## **LSTM generation:**"
      ]
    },
    {
      "cell_type": "code",
      "metadata": {
        "colab_type": "code",
        "id": "vE2hYSqAAtkn",
        "jupyter": {
          "source_hidden": true
        },
        "colab": {
          "base_uri": "https://localhost:8080/",
          "height": 862
        },
        "outputId": "ed84a727-c3d7-43a1-a0cb-575ca4c3ad4e"
      },
      "source": [
        "generator = Sequential([\n",
        "    Embedding(vocab_size, embedding_size,\n",
        "              batch_input_shape=(1, None)),\n",
        "    LSTM(lstm_size, return_sequences = True, stateful=True),\n",
        "    Dense(hidden_size, activation = relu), \n",
        "    Dense(vocab_size)\n",
        "])\n",
        "\n",
        "generator.summary()\n",
        "\n",
        "# Import trained weights from RNN to generator\n",
        "generator.set_weights(RNN.get_weights())\n",
        "\n",
        "def generate_text(start_string, num_generate = 1000, temperature = 1.0):\n",
        "    \n",
        "    # Vectorize input string\n",
        "    input_eval = [char2idx[s] for s in start_string]  \n",
        "    input_eval = tf.expand_dims(input_eval, 0)\n",
        "    \n",
        "    text_generated = [] # List to append predicted chars \n",
        "    \n",
        "    idx2char = { v: k for k, v in char2idx.items() }  # invert char-index mapping\n",
        "    \n",
        "    generator.reset_states()\n",
        "    \n",
        "    for i in range(num_generate):\n",
        "        predictions = generator(input_eval)\n",
        "        predictions = tf.squeeze(predictions, 0)\n",
        "        \n",
        "        # sample next char based on distribution and temperature\n",
        "        predictions = predictions / temperature\n",
        "        predicted_id = tf.random.categorical(predictions, num_samples=1)[-1,0].numpy()\n",
        "        \n",
        "        input_eval = tf.expand_dims([predicted_id], 0)\n",
        "\n",
        "        text_generated.append(idx2char[predicted_id])\n",
        "        \n",
        "    return (start_string + ''.join(text_generated))\n",
        "\n",
        "init=\"\"\"\n",
        "Nel mezzo del cammin di nostra vita\n",
        "mi ritrovai per una selva oscura,\n",
        "chè la diritta via era smarrita.\n",
        "\"\"\"\n",
        "print(generate_text(init))\n"
      ],
      "execution_count": 14,
      "outputs": [
        {
          "output_type": "stream",
          "text": [
            "Model: \"sequential_8\"\n",
            "_________________________________________________________________\n",
            "Layer (type)                 Output Shape              Param #   \n",
            "=================================================================\n",
            "embedding_8 (Embedding)      (1, None, 256)            15872     \n",
            "_________________________________________________________________\n",
            "lstm_8 (LSTM)                (1, None, 1024)           5246976   \n",
            "_________________________________________________________________\n",
            "dense_16 (Dense)             (1, None, 256)            262400    \n",
            "_________________________________________________________________\n",
            "dense_17 (Dense)             (1, None, 62)             15934     \n",
            "=================================================================\n",
            "Total params: 5,541,182\n",
            "Trainable params: 5,541,182\n",
            "Non-trainable params: 0\n",
            "_________________________________________________________________\n",
            "\n",
            "Nel mezzo del cammin di nostra vita\n",
            "mi ritrovai per una selva oscura,\n",
            "chè la diritta via era smarrita.\n",
            "  Ahi quanto a dir de la destra scempie\n",
            "trovai pur sei le lettere che 'ncise\n",
            "quest'è quanti molti poco s'imbiancea:\n",
            "  \"Or dipinto giù per la mente c'innoviva.\n",
            "  Questi che guida in alto li occhi miei,\n",
            "è quel Virgilio dal qual tu togliesti\n",
            "fiange come da l'acqua e de la toglia,\n",
            "  comparata in mezzo del ciel che tu partito!\n",
            "  Ma vieni un gran per lonoria, giacea\n",
            "due buoi uscir, chè non fu più perso;\n",
            "e noi, quanto le nove spense perso\n",
            "quel che pragona de l'opera sicelta.\n",
            "  Così si mossere in vicanda uscili!\n",
            "  Così per viva, girondo tutto le viste\n",
            "di qua tenene lo bricadde e indi,\n",
            "cu' batte infetto da Essisore e gravi,\n",
            "oggiunti si spiri, non essa appario;\n",
            "  e s'a quel trasso moder li decissimai\n",
            "per la qual si feo; e s'io non l'esserdia;\n",
            "però in parte vita per nave,\n",
            "  che se' t'inse'misarato speso costai\n",
            "reglio ha volta, ed el trascende a' piante\n",
            "  al padre per lo ciel volo sperse,\n",
            "e 'l suo disiagge e fè sentitta intene.\n",
            "  E come dal figlio par le cintor letizia,\n",
            "se tem suoi disposti che vu\n"
          ],
          "name": "stdout"
        }
      ]
    }
  ]
}